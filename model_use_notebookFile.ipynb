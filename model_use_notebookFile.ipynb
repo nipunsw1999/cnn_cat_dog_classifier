{
  "cells": [
    {
      "cell_type": "code",
      "execution_count": 3,
      "metadata": {
        "id": "bZusFwVC7v7W"
      },
      "outputs": [],
      "source": [
        "import cv2\n",
        "import tensorflow as tf\n",
        "import numpy as np"
      ]
    },
    {
      "cell_type": "code",
      "execution_count": 2,
      "metadata": {
        "id": "dk2EyhpS8QyW"
      },
      "outputs": [],
      "source": [
        "model = tf.keras.models.load_model('path') # path is model's path"
      ]
    },
    {
      "cell_type": "code",
      "execution_count": null,
      "metadata": {},
      "outputs": [],
      "source": []
    },
    {
      "cell_type": "code",
      "execution_count": 4,
      "metadata": {
        "id": "z_ZJgp0_8jBX"
      },
      "outputs": [],
      "source": [
        "def check(path):\n",
        "  img = cv2.imread(path)\n",
        "  resize = tf.image.resize(img,(128,128))\n",
        "  scaled = resize/255\n",
        "  np.expand_dims(scaled,0).shape\n",
        "  img_new = np.expand_dims(scaled,0)\n",
        "  y_hat = model.predict(img_new)\n",
        "  if y_hat>=0.5:\n",
        "    print(f\"{y_hat} : DOG\")\n",
        "  else:\n",
        "    print(f\"{y_hat} : CAT\")"
      ]
    },
    {
      "cell_type": "code",
      "execution_count": 5,
      "metadata": {
        "colab": {
          "base_uri": "https://localhost:8080/"
        },
        "id": "6bGjSrDg9Hdi",
        "outputId": "bcd8d43d-ab87-496a-9c52-6ed0e44636be"
      },
      "outputs": [
        {
          "name": "stdout",
          "output_type": "stream",
          "text": [
            "1/1 [==============================] - 0s 499ms/step\n",
            "[[0.66321105]] : DOG\n"
          ]
        }
      ],
      "source": [
        "check(\"image path\")"
      ]
    },
    {
      "cell_type": "code",
      "execution_count": null,
      "metadata": {
        "id": "oHrPmMdN9PXw"
      },
      "outputs": [],
      "source": []
    }
  ],
  "metadata": {
    "colab": {
      "provenance": []
    },
    "kernelspec": {
      "display_name": "Python 3",
      "name": "python3"
    },
    "language_info": {
      "name": "python"
    }
  },
  "nbformat": 4,
  "nbformat_minor": 0
}
